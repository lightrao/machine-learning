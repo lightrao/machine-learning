{
 "cells": [
  {
   "cell_type": "markdown",
   "metadata": {},
   "source": [
    "# Percentiles\n",
    "\n",
    "A percentile is a measure used in statistics indicating the value below which a given percentage of observations in a group of observations falls. For example, the 20th percentile is the value (or score) below which 20% of the observations may be found.\n",
    "\n",
    "In a data set(for example: income distribution), what’s the point([50%, $42,372]) at which X%(50%) of the values are less than that value($42,372)?\n",
    "\n",
    "The percentile is often used to explain scores on standardized tests. For instance, if you score in the 90th percentile on a standardized test, that means you scored better than 90% of the test takers.\n",
    "\n",
    "It's important to note that percentiles are not the same as percentages. Percentages tell you what fraction of the whole something is, while percentiles tell you how a particular value compares with other values in a set of data.\n",
    "\n",
    "Percentiles are also used in a variety of other fields, like finance, economics, and more. The interpretation will depend on the specific context.\n"
   ]
  },
  {
   "cell_type": "markdown",
   "metadata": {},
   "source": [
    "# Moments\n",
    "\n",
    "The n-th central moment of a probability distribution is a measure of how much the distribution deviates from its mean. It is defined as the expected value of the n-th power of the difference between a random variable X and its mean E[X]. Mathematically, it can be written as:\n",
    "\n",
    "$$\\mu_n = E[(X - E[X])^n]$$\n",
    "\n",
    "The central moments can be calculated in different ways depending on the type of data or random variable. Here are some common cases:\n",
    "\n",
    "1. For a discrete sample space, where you have k data points (x1, x2, ..., xk), and µ is the mean of these data points. This is often used when you have a finite set of observations or measurements, such as test scores or heights. The formula for the n-th central moment is:\n",
    "\n",
    "$$\\mu _{n}=\\frac{\\sum_{i=1}^{k} (x_i - \\mu)^n}{k}$$\n",
    "\n",
    "For example, if you have five data points: 2, 4, 6, 8, and 10, then the mean is µ = 6, and the second central moment (variance) is:\n",
    "\n",
    "$$\\mu_2 = \\frac{(2-6)^2 + (4-6)^2 + (6-6)^2 + (8-6)^2 + (10-6)^2}{5} = 8$$\n",
    "\n",
    "2. For a discrete random variable X, where p(x) is the probability mass function of X. This is often used when you have a countable number of possible outcomes for X, such as the number of heads in a coin toss or the number of dots on a die. The formula for the n-th central moment is:\n",
    "\n",
    "$$\\mu_n = \\sum_{x}(x - \\mu)^n p(x)$$\n",
    "\n",
    "For example, if X is a binomial random variable with parameters n = 10 and p = 0.5, then the mean is µ = np = 5, and the second central moment (variance) is:\n",
    "\n",
    "$$\\mu_2 = \\sum_{x=0}^{10}(x - 5)^2 {10 \\choose x} 0.5^x 0.5^{10-x} = 2.5$$\n",
    "\n",
    "3. For a continuous random variable X, where f(x) is the probability density function of X. This is often used when you have an uncountable number of possible outcomes for X, such as the weight or height of a person or the time between events. The formula for the n-th central moment is:\n",
    "\n",
    "$$\\mu_n = \\int_{-\\infty}^{\\infty}(x - \\mu)^n f(x) dx$$\n",
    "\n",
    "For example, if X is a normal random variable with parameters µ = 0 and σ = 1, then the mean is µ = 0, and the second central moment (variance) is:\n",
    "\n",
    "$$\\mu_2 = \\int_{-\\infty}^{\\infty}(x - 0)^2 \\frac{1}{\\sqrt{2\\pi}} e^{-\\frac{x^2}{2}} dx = 1$$\n",
    "\n",
    "In all these equations, µn is the nth central moment, which is a measure that describes the shape of a probability distribution. The zeroth central moment is always **1**, the first central moment is always **the mean**, the second central moment is **the variance**, the third central moment relates to **skewness**, and the fourth central moment relates to **kurtosis**.\n"
   ]
  }
 ],
 "metadata": {
  "language_info": {
   "name": "python"
  }
 },
 "nbformat": 4,
 "nbformat_minor": 2
}
