{
 "cells": [
  {
   "cell_type": "markdown",
   "metadata": {},
   "source": [
    "# Conditional Probability\n",
    "\n",
    "- If I have two events that depend on each other, what’s the probability\n",
    "that both will occur?\n",
    "- Notation: $P(A\\cap B)$ is the probability of A and B both occurring\n",
    "- $P(A\\mid B)$ : Probability of event A happening given that event B has already happened\n",
    "- We know: $P(A\\mid B)={\\frac {P(A\\cap B)}{P(B)}}$\n",
    "- Multiplication Rule: We can use this formula to find $P(A\\cap B)$ by rearranging it as $P(A\\cap B) = P(B)*P(A\\mid B)$, where $P(B)>0$.\n",
    "    "
   ]
  },
  {
   "cell_type": "markdown",
   "metadata": {},
   "source": [
    "# For example\n",
    "\n",
    "- I give my students two tests. 60% of my students passed both tests, but\n",
    "the first test was easier, 80% passed that one. What percentage of\n",
    "students who passed the first test also passed the second?\n",
    "- B = passing the first test, A = passing the second test\n",
    "- So we are asking for $P(A\\mid B)$, the probability of A given B\n",
    "- $P(A\\mid B)={\\frac {P(A\\cap B)}{P(B)}}={\\frac {0.6}{0.8}}=0.75$\n",
    "- 75% of students who passed the first test also passed the second."
   ]
  }
 ],
 "metadata": {
  "language_info": {
   "name": "python"
  }
 },
 "nbformat": 4,
 "nbformat_minor": 2
}
