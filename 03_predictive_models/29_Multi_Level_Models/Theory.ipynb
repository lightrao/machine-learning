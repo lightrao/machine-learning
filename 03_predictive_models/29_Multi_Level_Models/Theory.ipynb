{
 "cells": [
  {
   "cell_type": "markdown",
   "metadata": {},
   "source": [
    "# Multi-Level Models\n",
    "\n",
    "- The concept is that some effects happen at various levels of a hierarchical structure.\n",
    "- Example: your health depends on a hierarchy of the health of your cells, organs, you as a whole, your family, your city, and the world you live in. Each level has its own characteristics and influences the lower and higher levels.\n",
    "- Your wealth depends on your own work, what your parents did, what your grandparents did, etc. Each generation affects the opportunities and outcomes of the next one.\n",
    "- Multi-level models attempt to model and account for these interdependencies and variations across different levels.\n",
    "\n",
    "# Modeling multiple levels\n",
    "\n",
    "- You must identify the factors that affect the outcome you’re trying to predict at each level and how they interact with each other.\n",
    "- For example – SAT scores might be predicted based on the genetics of individual children, the home environment of individual children, the crime rate of the neighborhood they live in, the quality of the teachers in their school, the funding of their school district, and the education policies of their state. Some of these factors affect more than one level. For example, crime rate might influence the home environment and the school quality too.\n",
    "- You must also specify the level at which the outcome is measured and the level at which the predictors are measured. For example, SAT scores are measured at the individual level, but school funding is measured at the district level.\n",
    "\n",
    "# Doing this is hard\n",
    "- I just want you to be aware of the concept, as multi-level models showed up on some data science job requirements I’ve seen. They are useful for analyzing complex data structures that involve nested or clustered data.\n",
    "- You’re not ready for it yet. Entire advanced statistics and modeling courses exist on this one topic alone. You need to have a solid foundation in linear regression, ANOVA, and mixed effects models before you can tackle multi-level models.\n",
    "- Thick books exist on it too, when you’re ready. One of the most popular ones is [Multilevel Analysis: An Introduction to Basic and Advanced Multilevel Modeling] by Snijders and Bosker. It covers both the theory and the practice of multi-level modeling using real-world examples and software."
   ]
  }
 ],
 "metadata": {
  "language_info": {
   "name": "python"
  }
 },
 "nbformat": 4,
 "nbformat_minor": 2
}
