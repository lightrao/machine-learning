{
 "cells": [
  {
   "cell_type": "markdown",
   "metadata": {},
   "source": [
    "# Naive Bayes (the easy way)"
   ]
  },
  {
   "cell_type": "markdown",
   "metadata": {},
   "source": [
    "We'll cheat by using sklearn.naive_bayes to train a spam classifier! Most of the code is just loading our training data into a pandas DataFrame that we can play with:"
   ]
  },
  {
   "cell_type": "code",
   "execution_count": 42,
   "metadata": {},
   "outputs": [],
   "source": [
    "# Import the required modules\n",
    "import os\n",
    "import io\n",
    "import numpy\n",
    "import pandas as pd\n",
    "from pandas import DataFrame\n",
    "from sklearn.feature_extraction.text import CountVectorizer\n",
    "from sklearn.naive_bayes import MultinomialNB\n",
    "\n",
    "\n",
    "# Define a function to read the files from a given path\n",
    "def readFiles(path):\n",
    "    # Loop through the subdirectories and files in the path\n",
    "    for root, dirnames, filenames in os.walk(path):\n",
    "        # Loop through the filenames\n",
    "        for filename in filenames:\n",
    "            # Join the root and filename to get the full path\n",
    "            path = os.path.join(root, filename)\n",
    "\n",
    "            # Initialize a flag to indicate whether the line is in the body of the email\n",
    "            inBody = False\n",
    "            # Initialize a list to store the lines of the email\n",
    "            lines = []\n",
    "            # Open the file with latin1 encoding\n",
    "            f = io.open(path, \"r\", encoding=\"latin1\")\n",
    "            # Loop through the lines in the file\n",
    "            for line in f:\n",
    "                # If the flag is True, append the line to the list\n",
    "                if inBody:\n",
    "                    lines.append(line)\n",
    "                # If the line is empty, set the flag to True\n",
    "                elif line == \"\\n\":\n",
    "                    inBody = True\n",
    "            # Close the file\n",
    "            f.close()\n",
    "            # Join the lines with newline characters to get the message\n",
    "            message = \"\\n\".join(lines)\n",
    "            # Yield the path and message as a tuple\n",
    "            yield path, message\n",
    "\n",
    "\n",
    "# Define a function to create a data frame from a given directory and classification\n",
    "def dataFrameFromDirectory(path, classification):\n",
    "    # Initialize a list to store the rows of the data frame\n",
    "    rows = []\n",
    "    # Initialize a list to store the index of the data frame\n",
    "    index = []\n",
    "    # Loop through the filenames and messages from the directory\n",
    "    for filename, message in readFiles(path):\n",
    "        # Append a dictionary with the message and class to the rows list\n",
    "        rows.append({\"message\": message, \"class\": classification})\n",
    "        # Append the filename to the index list\n",
    "        index.append(filename)\n",
    "\n",
    "    # Return a data frame with the rows and index\n",
    "    return DataFrame(rows, index=index)\n",
    "\n",
    "\n",
    "# Initialize an empty data frame with the columns message and class\n",
    "data = DataFrame({\"message\": [], \"class\": []})\n",
    "\n",
    "# Concatenate the data frame with the data frame from the spam directory with the class spam\n",
    "data = pd.concat([data, dataFrameFromDirectory(\"emails/spam\", \"spam\")])\n",
    "# Concatenate the data frame with the data frame from the ham directory with the class ham\n",
    "data = pd.concat([data, dataFrameFromDirectory(\"emails/ham\", \"ham\")])"
   ]
  },
  {
   "cell_type": "markdown",
   "metadata": {},
   "source": [
    "Let's have a look at that DataFrame:"
   ]
  },
  {
   "cell_type": "code",
   "execution_count": 43,
   "metadata": {},
   "outputs": [
    {
     "data": {
      "text/html": [
       "<div>\n",
       "<style scoped>\n",
       "    .dataframe tbody tr th:only-of-type {\n",
       "        vertical-align: middle;\n",
       "    }\n",
       "\n",
       "    .dataframe tbody tr th {\n",
       "        vertical-align: top;\n",
       "    }\n",
       "\n",
       "    .dataframe thead th {\n",
       "        text-align: right;\n",
       "    }\n",
       "</style>\n",
       "<table border=\"1\" class=\"dataframe\">\n",
       "  <thead>\n",
       "    <tr style=\"text-align: right;\">\n",
       "      <th></th>\n",
       "      <th>message</th>\n",
       "      <th>class</th>\n",
       "    </tr>\n",
       "  </thead>\n",
       "  <tbody>\n",
       "    <tr>\n",
       "      <th>emails/spam/00249.5f45607c1bffe89f60ba1ec9f878039a</th>\n",
       "      <td>Dear Homeowner,\\n\\n \\n\\nInterest Rates are at ...</td>\n",
       "      <td>spam</td>\n",
       "    </tr>\n",
       "    <tr>\n",
       "      <th>emails/spam/00373.ebe8670ac56b04125c25100a36ab0510</th>\n",
       "      <td>ATTENTION: This is a MUST for ALL Computer Use...</td>\n",
       "      <td>spam</td>\n",
       "    </tr>\n",
       "    <tr>\n",
       "      <th>emails/spam/00214.1367039e50dc6b7adb0f2aa8aba83216</th>\n",
       "      <td>This is a multi-part message in MIME format.\\n...</td>\n",
       "      <td>spam</td>\n",
       "    </tr>\n",
       "    <tr>\n",
       "      <th>emails/spam/00210.050ffd105bd4e006771ee63cabc59978</th>\n",
       "      <td>IMPORTANT INFORMATION:\\n\\n\\n\\nThe new domain n...</td>\n",
       "      <td>spam</td>\n",
       "    </tr>\n",
       "    <tr>\n",
       "      <th>emails/spam/00033.9babb58d9298daa2963d4f514193d7d6</th>\n",
       "      <td>This is the bottom line.  If you can GIVE AWAY...</td>\n",
       "      <td>spam</td>\n",
       "    </tr>\n",
       "    <tr>\n",
       "      <th>...</th>\n",
       "      <td>...</td>\n",
       "      <td>...</td>\n",
       "    </tr>\n",
       "    <tr>\n",
       "      <th>emails/ham/01037.6b42b5f3d3d9e6293bf24af66b250655</th>\n",
       "      <td>On Thu, 2002-08-29 at 00:02, Ville Skyttä wrot...</td>\n",
       "      <td>ham</td>\n",
       "    </tr>\n",
       "    <tr>\n",
       "      <th>emails/ham/02056.7bc7703e40a24dda665d4ce7b0cba710</th>\n",
       "      <td>URL: http://www.newsisfree.com/click/-6,835599...</td>\n",
       "      <td>ham</td>\n",
       "    </tr>\n",
       "    <tr>\n",
       "      <th>emails/ham/01782.278f53b8f65fcd422cb26c5bbe74599d</th>\n",
       "      <td>use Perl Daily Newsletter\\n\\n\\n\\nIn this issue...</td>\n",
       "      <td>ham</td>\n",
       "    </tr>\n",
       "    <tr>\n",
       "      <th>emails/ham/00043.d2673a72d215cbdd747dc98cde41fbd2</th>\n",
       "      <td>&lt; &gt;\\n\\n&gt; I downloaded a driver from the nVidia...</td>\n",
       "      <td>ham</td>\n",
       "    </tr>\n",
       "    <tr>\n",
       "      <th>emails/ham/00135.bd3bc1c036eab89c9c50cff40958c939</th>\n",
       "      <td>&gt;That Goddess Chick wrote:\\n\\n&gt;&gt;\\n\\n&gt;&gt;  &gt;Thank...</td>\n",
       "      <td>ham</td>\n",
       "    </tr>\n",
       "  </tbody>\n",
       "</table>\n",
       "<p>3000 rows × 2 columns</p>\n",
       "</div>"
      ],
      "text/plain": [
       "                                                                                              message  \\\n",
       "emails/spam/00249.5f45607c1bffe89f60ba1ec9f878039a  Dear Homeowner,\\n\\n \\n\\nInterest Rates are at ...   \n",
       "emails/spam/00373.ebe8670ac56b04125c25100a36ab0510  ATTENTION: This is a MUST for ALL Computer Use...   \n",
       "emails/spam/00214.1367039e50dc6b7adb0f2aa8aba83216  This is a multi-part message in MIME format.\\n...   \n",
       "emails/spam/00210.050ffd105bd4e006771ee63cabc59978  IMPORTANT INFORMATION:\\n\\n\\n\\nThe new domain n...   \n",
       "emails/spam/00033.9babb58d9298daa2963d4f514193d7d6  This is the bottom line.  If you can GIVE AWAY...   \n",
       "...                                                                                               ...   \n",
       "emails/ham/01037.6b42b5f3d3d9e6293bf24af66b250655   On Thu, 2002-08-29 at 00:02, Ville Skyttä wrot...   \n",
       "emails/ham/02056.7bc7703e40a24dda665d4ce7b0cba710   URL: http://www.newsisfree.com/click/-6,835599...   \n",
       "emails/ham/01782.278f53b8f65fcd422cb26c5bbe74599d   use Perl Daily Newsletter\\n\\n\\n\\nIn this issue...   \n",
       "emails/ham/00043.d2673a72d215cbdd747dc98cde41fbd2   < >\\n\\n> I downloaded a driver from the nVidia...   \n",
       "emails/ham/00135.bd3bc1c036eab89c9c50cff40958c939   >That Goddess Chick wrote:\\n\\n>>\\n\\n>>  >Thank...   \n",
       "\n",
       "                                                   class  \n",
       "emails/spam/00249.5f45607c1bffe89f60ba1ec9f878039a  spam  \n",
       "emails/spam/00373.ebe8670ac56b04125c25100a36ab0510  spam  \n",
       "emails/spam/00214.1367039e50dc6b7adb0f2aa8aba83216  spam  \n",
       "emails/spam/00210.050ffd105bd4e006771ee63cabc59978  spam  \n",
       "emails/spam/00033.9babb58d9298daa2963d4f514193d7d6  spam  \n",
       "...                                                  ...  \n",
       "emails/ham/01037.6b42b5f3d3d9e6293bf24af66b250655    ham  \n",
       "emails/ham/02056.7bc7703e40a24dda665d4ce7b0cba710    ham  \n",
       "emails/ham/01782.278f53b8f65fcd422cb26c5bbe74599d    ham  \n",
       "emails/ham/00043.d2673a72d215cbdd747dc98cde41fbd2    ham  \n",
       "emails/ham/00135.bd3bc1c036eab89c9c50cff40958c939    ham  \n",
       "\n",
       "[3000 rows x 2 columns]"
      ]
     },
     "execution_count": 43,
     "metadata": {},
     "output_type": "execute_result"
    }
   ],
   "source": [
    "data"
   ]
  },
  {
   "cell_type": "markdown",
   "metadata": {},
   "source": [
    "Now we will use a CountVectorizer to split up each message into its list of words, and throw that into a MultinomialNB classifier. Call fit() and we've got a trained spam filter ready to go! It's just that easy."
   ]
  },
  {
   "cell_type": "code",
   "execution_count": 44,
   "metadata": {},
   "outputs": [
    {
     "data": {
      "text/html": [
       "<style>#sk-container-id-12 {color: black;background-color: white;}#sk-container-id-12 pre{padding: 0;}#sk-container-id-12 div.sk-toggleable {background-color: white;}#sk-container-id-12 label.sk-toggleable__label {cursor: pointer;display: block;width: 100%;margin-bottom: 0;padding: 0.3em;box-sizing: border-box;text-align: center;}#sk-container-id-12 label.sk-toggleable__label-arrow:before {content: \"▸\";float: left;margin-right: 0.25em;color: #696969;}#sk-container-id-12 label.sk-toggleable__label-arrow:hover:before {color: black;}#sk-container-id-12 div.sk-estimator:hover label.sk-toggleable__label-arrow:before {color: black;}#sk-container-id-12 div.sk-toggleable__content {max-height: 0;max-width: 0;overflow: hidden;text-align: left;background-color: #f0f8ff;}#sk-container-id-12 div.sk-toggleable__content pre {margin: 0.2em;color: black;border-radius: 0.25em;background-color: #f0f8ff;}#sk-container-id-12 input.sk-toggleable__control:checked~div.sk-toggleable__content {max-height: 200px;max-width: 100%;overflow: auto;}#sk-container-id-12 input.sk-toggleable__control:checked~label.sk-toggleable__label-arrow:before {content: \"▾\";}#sk-container-id-12 div.sk-estimator input.sk-toggleable__control:checked~label.sk-toggleable__label {background-color: #d4ebff;}#sk-container-id-12 div.sk-label input.sk-toggleable__control:checked~label.sk-toggleable__label {background-color: #d4ebff;}#sk-container-id-12 input.sk-hidden--visually {border: 0;clip: rect(1px 1px 1px 1px);clip: rect(1px, 1px, 1px, 1px);height: 1px;margin: -1px;overflow: hidden;padding: 0;position: absolute;width: 1px;}#sk-container-id-12 div.sk-estimator {font-family: monospace;background-color: #f0f8ff;border: 1px dotted black;border-radius: 0.25em;box-sizing: border-box;margin-bottom: 0.5em;}#sk-container-id-12 div.sk-estimator:hover {background-color: #d4ebff;}#sk-container-id-12 div.sk-parallel-item::after {content: \"\";width: 100%;border-bottom: 1px solid gray;flex-grow: 1;}#sk-container-id-12 div.sk-label:hover label.sk-toggleable__label {background-color: #d4ebff;}#sk-container-id-12 div.sk-serial::before {content: \"\";position: absolute;border-left: 1px solid gray;box-sizing: border-box;top: 0;bottom: 0;left: 50%;z-index: 0;}#sk-container-id-12 div.sk-serial {display: flex;flex-direction: column;align-items: center;background-color: white;padding-right: 0.2em;padding-left: 0.2em;position: relative;}#sk-container-id-12 div.sk-item {position: relative;z-index: 1;}#sk-container-id-12 div.sk-parallel {display: flex;align-items: stretch;justify-content: center;background-color: white;position: relative;}#sk-container-id-12 div.sk-item::before, #sk-container-id-12 div.sk-parallel-item::before {content: \"\";position: absolute;border-left: 1px solid gray;box-sizing: border-box;top: 0;bottom: 0;left: 50%;z-index: -1;}#sk-container-id-12 div.sk-parallel-item {display: flex;flex-direction: column;z-index: 1;position: relative;background-color: white;}#sk-container-id-12 div.sk-parallel-item:first-child::after {align-self: flex-end;width: 50%;}#sk-container-id-12 div.sk-parallel-item:last-child::after {align-self: flex-start;width: 50%;}#sk-container-id-12 div.sk-parallel-item:only-child::after {width: 0;}#sk-container-id-12 div.sk-dashed-wrapped {border: 1px dashed gray;margin: 0 0.4em 0.5em 0.4em;box-sizing: border-box;padding-bottom: 0.4em;background-color: white;}#sk-container-id-12 div.sk-label label {font-family: monospace;font-weight: bold;display: inline-block;line-height: 1.2em;}#sk-container-id-12 div.sk-label-container {text-align: center;}#sk-container-id-12 div.sk-container {/* jupyter's `normalize.less` sets `[hidden] { display: none; }` but bootstrap.min.css set `[hidden] { display: none !important; }` so we also need the `!important` here to be able to override the default hidden behavior on the sphinx rendered scikit-learn.org. See: https://github.com/scikit-learn/scikit-learn/issues/21755 */display: inline-block !important;position: relative;}#sk-container-id-12 div.sk-text-repr-fallback {display: none;}</style><div id=\"sk-container-id-12\" class=\"sk-top-container\"><div class=\"sk-text-repr-fallback\"><pre>MultinomialNB()</pre><b>In a Jupyter environment, please rerun this cell to show the HTML representation or trust the notebook. <br />On GitHub, the HTML representation is unable to render, please try loading this page with nbviewer.org.</b></div><div class=\"sk-container\" hidden><div class=\"sk-item\"><div class=\"sk-estimator sk-toggleable\"><input class=\"sk-toggleable__control sk-hidden--visually\" id=\"sk-estimator-id-12\" type=\"checkbox\" checked><label for=\"sk-estimator-id-12\" class=\"sk-toggleable__label sk-toggleable__label-arrow\">MultinomialNB</label><div class=\"sk-toggleable__content\"><pre>MultinomialNB()</pre></div></div></div></div></div>"
      ],
      "text/plain": [
       "MultinomialNB()"
      ]
     },
     "execution_count": 44,
     "metadata": {},
     "output_type": "execute_result"
    }
   ],
   "source": [
    "# Create an instance of CountVectorizer, which is a tool that can convert text into a matrix of token counts\n",
    "vectorizer = CountVectorizer()\n",
    "\n",
    "# Apply the vectorizer to the \"message\" column of the data, which contains the text of the emails\n",
    "# The result is a sparse matrix that stores the counts of each word in each email\n",
    "counts = vectorizer.fit_transform(data[\"message\"].values)\n",
    "\n",
    "# Get the \"class\" column of the data, which contains the labels of the emails (spam or ham)\n",
    "# The result is an array that stores the labels of each email\n",
    "targets = data[\"class\"].values\n",
    "\n",
    "# Create an instance of MultinomialNB, which is a classifier that can predict the label of a text based on the word counts\n",
    "classifier = MultinomialNB()\n",
    "\n",
    "# Train the classifier using the counts matrix and the targets array\n",
    "# The classifier learns the probability of each word given each label, and the prior probability of each label\n",
    "classifier.fit(counts, targets)"
   ]
  },
  {
   "cell_type": "markdown",
   "metadata": {},
   "source": [
    "Let's try it out:"
   ]
  },
  {
   "cell_type": "code",
   "execution_count": 45,
   "metadata": {},
   "outputs": [
    {
     "data": {
      "text/plain": [
       "array(['spam', 'ham'], dtype='<U4')"
      ]
     },
     "execution_count": 45,
     "metadata": {},
     "output_type": "execute_result"
    }
   ],
   "source": [
    "# Create a list of two examples of emails that you want to classify as spam or ham\n",
    "examples = [\"Free Viagra now!!!\", \"Hi Bob, how about a game of golf tomorrow?\"]\n",
    "\n",
    "# Apply the vectorizer to the examples, which will transform them into a matrix of word counts\n",
    "# The vectorizer uses the same vocabulary that it learned from the data that we used to train the classifier\n",
    "example_counts = vectorizer.transform(examples)\n",
    "\n",
    "# Apply the classifier to the example counts, which will predict the label of each email based on the word counts\n",
    "# The classifier uses the same probabilities that it learned from the data that we used to train the classifier\n",
    "predictions = classifier.predict(example_counts)\n",
    "\n",
    "# Print the predictions, which will show the label of each email as either 'spam' or 'ham'\n",
    "predictions"
   ]
  },
  {
   "cell_type": "markdown",
   "metadata": {},
   "source": [
    "## Activity"
   ]
  },
  {
   "cell_type": "markdown",
   "metadata": {},
   "source": [
    "Our data set is small, so our spam classifier isn't actually very good. Try running some different test emails through it and see if you get the results you expect.\n",
    "\n",
    "If you really want to challenge yourself, try applying train/test to this spam classifier - see how well it can predict some subset of the ham and spam emails."
   ]
  },
  {
   "cell_type": "code",
   "execution_count": 46,
   "metadata": {},
   "outputs": [
    {
     "name": "stdout",
     "output_type": "stream",
     "text": [
      "Accuracy: 94.50%\n",
      "Baseline: 83.33%\n",
      "Precision: 100.00%\n",
      "Recall: 72.03%\n",
      "F1-score: 83.74%\n"
     ]
    }
   ],
   "source": [
    "# Import some modules from sklearn, which is a library that provides tools for machine learning\n",
    "from sklearn.model_selection import train_test_split\n",
    "from sklearn.metrics import accuracy_score\n",
    "from sklearn.metrics import precision_score, recall_score, f1_score\n",
    "\n",
    "# Split the counts matrix and the targets array into training and testing sets\n",
    "# The test_size parameter specifies the proportion of the data that will be used for testing (0.2 means 20%)\n",
    "# The random_state parameter ensures that the split is reproducible by using a fixed seed for the random number generator\n",
    "X_train, X_test, y_train, y_test = train_test_split(\n",
    "    counts, targets, test_size=0.2, random_state=42\n",
    ")\n",
    "\n",
    "# Train the classifier using the training set\n",
    "classifier.fit(X_train, y_train)\n",
    "\n",
    "# Predict the labels of the testing set using the classifier\n",
    "y_pred = classifier.predict(X_test)\n",
    "\n",
    "# Calculate the accuracy of the classifier, which is the proportion of correct predictions\n",
    "accuracy = accuracy_score(y_test, y_pred)\n",
    "\n",
    "# Calculate the baseline accuracy, which is the proportion of the most frequent label in the data\n",
    "# For example, if the data has 60% spam and 40% ham, the baseline accuracy is 60%\n",
    "baseline = max(\n",
    "    numpy.count_nonzero(targets == \"spam\"), numpy.count_nonzero(targets == \"ham\")\n",
    ") / len(targets)\n",
    "\n",
    "# Print the accuracy and the baseline accuracy as percentages\n",
    "print(\"Accuracy: {:.2f}%\".format(accuracy * 100))\n",
    "print(\"Baseline: {:.2f}%\".format(baseline * 100))\n",
    "\n",
    "# Calculate the precision of the classifier, which is the proportion of true positives among all predicted positives\n",
    "# For example, if the classifier predicts 100 spam emails and 80 of them are actually spam, the precision is 80%\n",
    "precision = precision_score(y_test, y_pred, pos_label=\"spam\")\n",
    "\n",
    "# Calculate the recall of the classifier, which is the proportion of true positives among all actual positives\n",
    "# For example, if there are 100 spam emails in the data and the classifier predicts 80 of them, the recall is 80%\n",
    "recall = recall_score(y_test, y_pred, pos_label=\"spam\")\n",
    "\n",
    "# Calculate the F1-score of the classifier, which is the harmonic mean of precision and recall\n",
    "# The F1-score is a measure of the balance between precision and recall\n",
    "f1 = f1_score(y_test, y_pred, pos_label=\"spam\")\n",
    "\n",
    "# Print the precision, recall, and F1-score as percentages\n",
    "print(\"Precision: {:.2f}%\".format(precision * 100))\n",
    "print(\"Recall: {:.2f}%\".format(recall * 100))\n",
    "print(\"F1-score: {:.2f}%\".format(f1 * 100))"
   ]
  }
 ],
 "metadata": {
  "kernelspec": {
   "display_name": "Python 3 (ipykernel)",
   "language": "python",
   "name": "python3"
  },
  "language_info": {
   "codemirror_mode": {
    "name": "ipython",
    "version": 3
   },
   "file_extension": ".py",
   "mimetype": "text/x-python",
   "name": "python",
   "nbconvert_exporter": "python",
   "pygments_lexer": "ipython3",
   "version": "3.9.18"
  }
 },
 "nbformat": 4,
 "nbformat_minor": 1
}
