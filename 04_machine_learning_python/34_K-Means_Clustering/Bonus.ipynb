{
 "cells": [
  {
   "cell_type": "markdown",
   "metadata": {},
   "source": [
    "To standardize a dataset, you need to perform the following steps:\n",
    "\n",
    "- Calculate the mean and the standard deviation of each feature (column) in the dataset. The mean is the average of all the values in the feature, and the standard deviation is a measure of how much the values vary from the mean. Mathematically, you can write them as:\n",
    "\n",
    "$$\\mu_j = \\frac{1}{n} \\sum_{i=1}^n x_{ij}$$\n",
    "\n",
    "$$\\sigma_j = \\sqrt{\\frac{1}{n} \\sum_{i=1}^n (x_{ij} - \\mu_j)^2}$$\n",
    "\n",
    "where $x_{ij}$ is the value of the $j$-th feature for the $i$-th sample, $n$ is the number of samples, $\\mu_j$ is the mean of the $j$-th feature, and $\\sigma_j$ is the standard deviation of the $j$-th feature.\n",
    "\n",
    "- Subtract the mean from each value in the feature and divide it by the standard deviation. This will center the data to zero mean and scale it to unit variance. Mathematically, you can write this as:\n",
    "\n",
    "$$z_{ij} = \\frac{x_{ij} - \\mu_j}{\\sigma_j}$$\n",
    "\n",
    "where $z_{ij}$ is the standardized value of the $j$-th feature for the $i$-th sample.\n",
    "\n",
    "- Repeat this process for all the features in the dataset."
   ]
  },
  {
   "cell_type": "markdown",
   "metadata": {},
   "source": [
    "sklearn.preprocessing.scale() is a function from the scikit-learn library that standardizes a dataset along any axis. It centers the data to the mean and scales it to unit variance. "
   ]
  },
  {
   "cell_type": "code",
   "execution_count": 5,
   "metadata": {},
   "outputs": [
    {
     "name": "stdout",
     "output_type": "stream",
     "text": [
      "Mean: [4. 5. 6.]\n",
      "Std: [2.44948974 2.44948974 2.44948974]\n",
      "Scaled data:\n",
      " [[-1.22474487 -1.22474487 -1.22474487]\n",
      " [ 0.          0.          0.        ]\n",
      " [ 1.22474487  1.22474487  1.22474487]]\n",
      "Mean: [0. 0. 0.]\n",
      "Std: [1. 1. 1.]\n"
     ]
    }
   ],
   "source": [
    "# Import the library\n",
    "from sklearn import preprocessing\n",
    "import numpy as np\n",
    "\n",
    "# Create some sample data\n",
    "X = [[1, 2, 3], [4, 5, 6], [7, 8, 9]]\n",
    "\n",
    "# Convert the list to a numpy array\n",
    "X = np.array(X)\n",
    "\n",
    "# Print the mean and standard deviation of each column\n",
    "print(\"Mean:\", X.mean(axis=0))\n",
    "print(\"Std:\", X.std(axis=0))\n",
    "\n",
    "# Scale the data using the function\n",
    "X_scaled = preprocessing.scale(X)\n",
    "\n",
    "# Print the scaled data, mean and standard deviation\n",
    "print(\"Scaled data:\\n\", X_scaled)\n",
    "print(\"Mean:\", X_scaled.mean(axis=0))\n",
    "print(\"Std:\", X_scaled.std(axis=0))"
   ]
  },
  {
   "cell_type": "markdown",
   "metadata": {},
   "source": [
    "Axis=0 is a parameter that can be used in some NumPy functions to specify the direction along which an operation is performed. For example, if you have a 2-dimensional array, axis=0 means the direction along the rows, and axis=1 means the direction along the columns12\n",
    "\n",
    "When you use axis=0 in a NumPy function, it means that the function will apply to each column of the array, and return an array with one less dimension. For example, if you use np.sum(a, axis=0), it will sum up all the elements in each column of array a, and return a 1-dimensional array with the column sums3"
   ]
  },
  {
   "cell_type": "code",
   "execution_count": 4,
   "metadata": {},
   "outputs": [
    {
     "name": "stdout",
     "output_type": "stream",
     "text": [
      "Shape of a: (4, 3)\n",
      "Sum along axis=0: [22 26 30]\n",
      "Sum along axis=1: [ 6 15 24 33]\n",
      "Shape of b: (3,)\n",
      "Shape of c: (4,)\n"
     ]
    }
   ],
   "source": [
    "# Import the NumPy library\n",
    "import numpy as np\n",
    "\n",
    "# Create a 2-dimensional array\n",
    "a = np.array([[1, 2, 3], [4, 5, 6], [7, 8, 9], [10, 11, 12]])\n",
    "\n",
    "# Print the shape of the array\n",
    "print(\"Shape of a:\", a.shape)\n",
    "\n",
    "# Sum the elements along axis=0\n",
    "b = np.sum(a, axis=0)\n",
    "\n",
    "c = np.sum(a, axis=1)\n",
    "\n",
    "# Print the result and its shape\n",
    "print(\"Sum along axis=0:\", b)\n",
    "print(\"Sum along axis=1:\", c)\n",
    "print(\"Shape of b:\", b.shape)\n",
    "print(\"Shape of c:\", c.shape)"
   ]
  }
 ],
 "metadata": {
  "kernelspec": {
   "display_name": "lightTf",
   "language": "python",
   "name": "python3"
  },
  "language_info": {
   "codemirror_mode": {
    "name": "ipython",
    "version": 3
   },
   "file_extension": ".py",
   "mimetype": "text/x-python",
   "name": "python",
   "nbconvert_exporter": "python",
   "pygments_lexer": "ipython3",
   "version": "3.9.18"
  }
 },
 "nbformat": 4,
 "nbformat_minor": 2
}
