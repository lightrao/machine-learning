{
 "cells": [
  {
   "cell_type": "markdown",
   "metadata": {},
   "source": [
    "# K-Means Clustering Example"
   ]
  },
  {
   "cell_type": "markdown",
   "metadata": {},
   "source": [
    "Let's make some fake data that includes people clustered by income and age, randomly:"
   ]
  },
  {
   "cell_type": "code",
   "execution_count": 1,
   "metadata": {},
   "outputs": [
    {
     "name": "stdout",
     "output_type": "stream",
     "text": [
      "[[1.72153581e+05 2.24681554e+01]\n",
      " [1.43383713e+05 2.10208298e+01]\n",
      " [1.65051076e+05 1.95974263e+01]\n",
      " [5.30950664e+04 2.46340878e+01]\n",
      " [5.04828649e+04 2.40677903e+01]\n",
      " [5.47702125e+04 2.68230655e+01]\n",
      " [1.52202258e+05 3.54840786e+01]\n",
      " [1.38549935e+05 3.48640772e+01]\n",
      " [1.64761327e+05 3.24341936e+01]\n",
      " [1.02190673e+05 4.64706343e+01]\n",
      " [1.10766884e+05 4.50459441e+01]\n",
      " [1.00521464e+05 4.44966924e+01]]\n",
      "12\n"
     ]
    }
   ],
   "source": [
    "from numpy import random, array\n",
    "\n",
    "\n",
    "# Create fake income/age clusters for N people in k clusters\n",
    "def createClusteredData(N, k):\n",
    "    # Set the random seed to 10 for reproducibility\n",
    "    random.seed(10)\n",
    "    # Calculate the number of points per cluster\n",
    "    pointsPerCluster = float(N) / k\n",
    "    # Initialize an empty list to store the data points\n",
    "    X = []\n",
    "    # Loop through the number of clusters\n",
    "    for i in range(k):\n",
    "        # Generate a random income centroid between 20,000 and 200,000\n",
    "        incomeCentroid = random.uniform(20000.0, 200000.0)\n",
    "        # Generate a random age centroid between 20 and 70\n",
    "        ageCentroid = random.uniform(20.0, 70.0)\n",
    "        # Loop through the number of points per cluster\n",
    "        for j in range(int(pointsPerCluster)):\n",
    "            # Append a data point with a normal distribution around the income and age centroids\n",
    "            X.append(\n",
    "                [\n",
    "                    random.normal(incomeCentroid, 10000.0),\n",
    "                    random.normal(ageCentroid, 2.0),\n",
    "                ]\n",
    "            )\n",
    "    # Convert the list of data points to a numpy array\n",
    "    X = array(X)\n",
    "    # Return the array of data points\n",
    "    return X\n",
    "\n",
    "\n",
    "# Call the function with 12 people and 4 clusters\n",
    "Y = createClusteredData(12, 4)\n",
    "# Print the array of data points\n",
    "print(Y)\n",
    "# Print the length of the array\n",
    "print(len(Y))"
   ]
  },
  {
   "cell_type": "markdown",
   "metadata": {},
   "source": [
    "We'll use k-means to rediscover these clusters in unsupervised learning:"
   ]
  },
  {
   "cell_type": "code",
   "execution_count": null,
   "metadata": {},
   "outputs": [],
   "source": [
    "# Import the matplotlib inline magic command to display plots in the notebook\n",
    "%matplotlib inline\n",
    "\n",
    "# Import the KMeans class from the sklearn.cluster module\n",
    "from sklearn.cluster import KMeans\n",
    "# Import the pyplot module from the matplotlib library and alias it as plt\n",
    "import matplotlib.pyplot as plt\n",
    "# Import the scale function from the sklearn.preprocessing module\n",
    "from sklearn.preprocessing import scale\n",
    "\n",
    "# Create a dataset of 100 data points in 5 clusters using the createClusteredData function\n",
    "data = createClusteredData(100, 5)\n",
    "\n",
    "# Instantiate a KMeans object with 5 clusters\n",
    "model = KMeans(n_clusters=5)\n",
    "\n",
    "# Scale the data to normalize it and assign it back to the data variable\n",
    "# Scaling is important for good results because it reduces the effect of outliers and different scales of features\n",
    "# Scaling transforms the data to have zero mean and unit variance for each feature\n",
    "data = scale(data)\n",
    "\n",
    "# Fit the model to the scaled data\n",
    "# This will assign each data point to one of the 5 clusters based on the distance to the cluster centroids\n",
    "model = model.fit(data)\n",
    "\n",
    "# Print the labels of the clusters assigned to each data point by the model\n",
    "# The labels are integers from 0 to 4, corresponding to the 5 clusters\n",
    "print(model.labels_)\n",
    "\n",
    "print(model.labels_.astype(float))\n",
    "\n",
    "# Visualize the data and the clusters using a scatter plot\n",
    "# Set the figure size to 8 by 6 inches\n",
    "plt.figure(figsize=(8, 6))\n",
    "\n",
    "# Plot the data points with their x and y coordinates as the first and second features\n",
    "# Use the cluster labels as the color of the points\n",
    "plt.scatter(data[:,0], data[:,1], c=model.labels_.astype(float))\n",
    "\n",
    "# Show the plot\n",
    "plt.show()"
   ]
  },
  {
   "cell_type": "markdown",
   "metadata": {},
   "source": [
    "note:\n",
    "\n",
    "```python\n",
    "plt.scatter(data[:,0], data[:,1], c=model.labels_.astype(float))\n",
    "```\n",
    "\n",
    "This line of code uses the pyplot module from the matplotlib library, which is imported as plt, to create a scatter plot of the data and the clusters. A scatter plot is a type of plot that shows the relationship between two variables by using dots to represent the values of the variables for each observation. The arguments of the plt.scatter function are:\n",
    "\n",
    "- data[:,0]: This is the first feature of the data, which is the income value. The data variable is a numpy array of shape (n_samples, n_features), where n_samples is the number of data points and n_features is the number of features. The [:,0] notation means that we are selecting all the rows and the first column of the array, which corresponds to the income feature.\n",
    "- data[:,1]: This is the second feature of the data, which is the age value. The data variable is a numpy array of shape (n_samples, n_features), where n_samples is the number of data points and n_features is the number of features. The [:,1] notation means that we are selecting all the rows and the second column of the array, which corresponds to the age feature.\n",
    "- c=model.labels_.astype(float): This is the color of the dots, which is determined by the cluster labels assigned by the model. The model variable is a KMeans object that has a labels_ attribute, which is a numpy array of shape (n_samples,) that contains the cluster labels for each data point. The labels are integers from 0 to 4, corresponding to the 5 clusters. The astype(float) method converts the labels to floating-point numbers, which are required for the color argument of the plt.scatter function. The color argument determines the color of the dots based on a colormap, which is a mapping from numbers to colors. The default colormap is viridis, which is a perceptually uniform colormap that ranges from yellow to purple. The lower the number, the more yellow the color, and the higher the number, the more purple the color.\n",
    "\n",
    "The result of this line of code is a scatter plot of the data and the clusters, where the x-axis is the income feature, the y-axis is the age feature, and the color of the dots is the cluster label. The scatter plot shows the distribution and the grouping of the data points based on the income and age features and the cluster centroids."
   ]
  },
  {
   "cell_type": "markdown",
   "metadata": {},
   "source": [
    "## Activity"
   ]
  },
  {
   "cell_type": "markdown",
   "metadata": {},
   "source": [
    "Things to play with: what happens if you don't scale the data? What happens if you choose different values of K? In the real world, you won't know the \"right\" value of K to start with - you'll need to converge on it yourself."
   ]
  },
  {
   "cell_type": "code",
   "execution_count": null,
   "metadata": {},
   "outputs": [],
   "source": []
  }
 ],
 "metadata": {
  "kernelspec": {
   "display_name": "Python 3",
   "language": "python",
   "name": "python3"
  },
  "language_info": {
   "codemirror_mode": {
    "name": "ipython",
    "version": 3
   },
   "file_extension": ".py",
   "mimetype": "text/x-python",
   "name": "python",
   "nbconvert_exporter": "python",
   "pygments_lexer": "ipython3",
   "version": "3.9.18"
  }
 },
 "nbformat": 4,
 "nbformat_minor": 1
}
