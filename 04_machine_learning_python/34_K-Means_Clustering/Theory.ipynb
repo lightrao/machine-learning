{
 "cells": [
  {
   "cell_type": "markdown",
   "metadata": {},
   "source": [
    "# K-Means Clustering\n",
    "\n",
    "K-means clustering is a popular unsupervised machine learning algorithm that tries to group data into K clusters based on their similarity. Unlike supervised learning, it does not use any labels or outcomes, but only the features of each data point. K-means clustering can be useful for discovering patterns or insights from data, such as:\n",
    "\n",
    "- Where do millionaires live in the world?\n",
    "- What genres of music or movies are most popular among different age groups?\n",
    "- How can customers be segmented based on their preferences or behavior?\n",
    "\n",
    "The basic idea of k-means clustering is very simple:\n",
    "\n",
    "- Choose a value for K, the number of clusters to create.\n",
    "- Randomly select K data points as the initial cluster centers (also called centroids or means).\n",
    "- Assign each data point to the cluster whose center is closest to it, using some distance measure (such as Euclidean distance).\n",
    "- Recalculate the cluster centers as the mean of all the data points assigned to them.\n",
    "- Repeat steps 3 and 4 until no data point changes its cluster assignment or a maximum number of iterations is reached.\n",
    "\n",
    "To predict the cluster for new data points, just find the cluster center that is closest to them.\n",
    "\n",
    "# K-Means Clustering Challenges\n",
    "\n",
    "Although k-means clustering is a simple and powerful algorithm, it also has some challenges that need to be addressed, such as:\n",
    "\n",
    "- Choosing the optimal value for K\n",
    "    - There is no definitive rule for choosing the best value for K, as it depends on the data and the objective of the analysis.\n",
    "    - One possible method is to plot the squared error (the sum of the squared distances from each data point to its cluster center) against different values of K, and look for an \"elbow\" point where the error drops significantly. This indicates that adding more clusters does not improve the fit much.\n",
    "- Avoiding local minima\n",
    "    - The final result of k-means clustering depends on the random choice of initial cluster centers, which can lead to different outcomes and different values of squared error.\n",
    "    - To avoid getting stuck in a suboptimal solution, it is advisable to run the algorithm multiple times with different initializations and choose the best one based on the lowest squared error.\n",
    "- Interpreting the clusters\n",
    "    - K-means clustering does not provide any labels or meanings for the clusters it finds, as it only uses the features of the data points.\n",
    "    - It is up to the analyst to examine the characteristics of each cluster and try to assign a descriptive name or category to it, based on the domain knowledge and the purpose of the analysis."
   ]
  }
 ],
 "metadata": {
  "language_info": {
   "name": "python"
  }
 },
 "nbformat": 4,
 "nbformat_minor": 2
}
