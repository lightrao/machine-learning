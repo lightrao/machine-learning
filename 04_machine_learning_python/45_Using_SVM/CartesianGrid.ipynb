{
 "cells": [
  {
   "cell_type": "markdown",
   "metadata": {},
   "source": [
    "creates a meshgrid from the provided x and y values and then plots these points on a 2D plot using Matplotlib. The meshgrid is used for creating a rectangular grid out of two given one-dimensional arrays representing the Cartesian indexing or Matrix indexing. The plt.plot function is then used to visualize these points.\n"
   ]
  },
  {
   "cell_type": "code",
   "execution_count": 5,
   "metadata": {},
   "outputs": [
    {
     "name": "stdout",
     "output_type": "stream",
     "text": [
      "xx= [[1 2 3 4]\n",
      " [1 2 3 4]\n",
      " [1 2 3 4]]\n",
      "yy= [[7 7 7 7]\n",
      " [6 6 6 6]\n",
      " [5 5 5 5]]\n"
     ]
    },
    {
     "data": {
      "image/png": "[encoded data removed]",
      "text/plain": [
       "<Figure size 640x480 with 1 Axes>"
      ]
     },
     "metadata": {},
     "output_type": "display_data"
    }
   ],
   "source": [
    "# Importing necessary libraries\n",
    "import numpy as np  # Numpy for numerical operations\n",
    "import matplotlib.pyplot as plt  # Matplotlib for plotting\n",
    "\n",
    "# Creating arrays of x and y values\n",
    "xvalues = np.array([1, 2, 3, 4])  # Defining x-values as a numpy array\n",
    "yvalues = np.array([7, 6, 5])  # Defining y-values as a numpy array\n",
    "\n",
    "# Generating a meshgrid from the x and y values\n",
    "xx, yy = np.meshgrid(xvalues, yvalues)\n",
    "# np.meshgrid takes two 1-D arrays and produces two 2-D matrices\n",
    "# corresponding to all pairs of (x, y) in the original arrays.\n",
    "\n",
    "# Printing the generated meshgrid matrices\n",
    "print(\"xx=\", xx)  # Printing xx matrix: repeats x-values in rows\n",
    "print(\"yy=\", yy)  # Printing yy matrix: repeats y-values in columns\n",
    "\n",
    "# Plotting the points in the meshgrid\n",
    "plt.plot(xx, yy, marker=\".\", color=\"k\", linestyle=\"none\")\n",
    "# plt.plot plots the points. Here, 'marker' denotes the style of the markers,\n",
    "# 'color' specifies the color of the markers, and 'linestyle' is set to 'none'\n",
    "# as we are only interested in the points, not in connecting them.\n",
    "\n",
    "plt.show()  # Displaying the plot"
   ]
  },
  {
   "cell_type": "markdown",
   "metadata": {},
   "source": [
    "The following demonstrates two methods to calculate the sum of the elements from the meshgrid arrays xx and yy. "
   ]
  },
  {
   "cell_type": "code",
   "execution_count": 6,
   "metadata": {},
   "outputs": [
    {
     "name": "stdout",
     "output_type": "stream",
     "text": [
      "x = [-2 -1  0  1  2]\n",
      "y = [-1  0  1]\n",
      "xx = [[-2 -1  0  1  2]\n",
      " [-2 -1  0  1  2]\n",
      " [-2 -1  0  1  2]]\n",
      "yy = [[-1 -1 -1 -1 -1]\n",
      " [ 0  0  0  0  0]\n",
      " [ 1  1  1  1  1]]\n",
      "npx = [-2 -1  0  1  2 -2 -1  0  1  2 -2 -1  0  1  2]\n",
      "npy = [-1 -1 -1 -1 -1  0  0  0  0  0  1  1  1  1  1]\n",
      "points = [[-2 -1]\n",
      " [-1 -1]\n",
      " [ 0 -1]\n",
      " [ 1 -1]\n",
      " [ 2 -1]\n",
      " [-2  0]\n",
      " [-1  0]\n",
      " [ 0  0]\n",
      " [ 1  0]\n",
      " [ 2  0]\n",
      " [-2  1]\n",
      " [-1  1]\n",
      " [ 0  1]\n",
      " [ 1  1]\n",
      " [ 2  1]]\n",
      "Z = [-3 -2 -1  0  1 -2 -1  0  1  2 -1  0  1  2  3]\n",
      "Z_reshaped = [[-3 -2 -1  0  1]\n",
      " [-2 -1  0  1  2]\n",
      " [-1  0  1  2  3]]\n",
      "zz = [[-3 -2 -1  0  1]\n",
      " [-2 -1  0  1  2]\n",
      " [-1  0  1  2  3]]\n"
     ]
    }
   ],
   "source": [
    "# Importing the numpy library for numerical operations\n",
    "import numpy as np\n",
    "\n",
    "# Creating arrays using numpy's arange function\n",
    "x = np.arange(-2, 3, 1)  # Creates a 1D array 'x' with values from -2 to 2, incrementing by 1\n",
    "y = np.arange(-1, 2, 1)  # Creates a 1D array 'y' with values from -1 to 1, incrementing by 1\n",
    "print(\"x =\", x)  # Displaying the created x array\n",
    "print(\"y =\", y)  # Displaying the created y array\n",
    "\n",
    "# Generating a meshgrid from the x and y arrays\n",
    "xx, yy = np.meshgrid(x, y)  \n",
    "# np.meshgrid creates two 2D grid arrays from x and y.\n",
    "# 'xx' contains copies of the x array for each y value, \n",
    "# and 'yy' contains copies of the y array for each x value.\n",
    "print(\"xx =\", xx)  # Displaying the 2D grid array xx\n",
    "print(\"yy =\", yy)  # Displaying the 2D grid array yy\n",
    "\n",
    "# Defining a function to calculate a Z array using method 1\n",
    "def calculateZ1():\n",
    "    npx = xx.ravel()  # Flattening the 2D array xx into a 1D array npx\n",
    "    npy = yy.ravel()  # Flattening the 2D array yy into a 1D array npy\n",
    "    print(\"npx =\", npx)\n",
    "    print(\"npy =\", npy)\n",
    "\n",
    "    points = np.c_[npx, npy]  \n",
    "    # Combines the flattened arrays npx and npy into a single 2D array 'points'.\n",
    "    # Each row in 'points' represents a pair of (x, y) coordinates.\n",
    "    print(\"points =\", points)\n",
    "\n",
    "    Z = [x + y for (x, y) in points]  \n",
    "    # List comprehension to add corresponding x and y values for each point.\n",
    "    Z = np.array(Z)  # Converting the list Z into a numpy array for consistency in data type\n",
    "    print(\"Z =\", Z)\n",
    "\n",
    "    Z_reshaped = Z.reshape(xx.shape)  \n",
    "    # Reshaping the 1D array Z back into a 2D array with the same shape as xx and yy.\n",
    "    # This operation aligns the summed values back to their corresponding grid positions.\n",
    "    print(\"Z_reshaped =\", Z_reshaped)\n",
    "\n",
    "# Defining a function to calculate a zz array using method 2\n",
    "def calculateZ2():\n",
    "    zz = xx + yy  # Performing element-wise addition of the 2D arrays xx and yy\n",
    "    # This operation adds corresponding elements of xx and yy, directly utilizing NumPy's broadcasting.\n",
    "    print(\"zz =\", zz)\n",
    "\n",
    "# Calling the function calculateZ1\n",
    "calculateZ1()  # This function demonstrates a manual approach to element-wise addition and reshaping.\n",
    "\n",
    "# Calling the function calculateZ2\n",
    "calculateZ2()  # This function showcases a more straightforward, vectorized approach using NumPy.\n"
   ]
  }
 ],
 "metadata": {
  "kernelspec": {
   "display_name": "lightTf",
   "language": "python",
   "name": "python3"
  },
  "language_info": {
   "codemirror_mode": {
    "name": "ipython",
    "version": 3
   },
   "file_extension": ".py",
   "mimetype": "text/x-python",
   "name": "python",
   "nbconvert_exporter": "python",
   "pygments_lexer": "ipython3",
   "version": "3.9.18"
  }
 },
 "nbformat": 4,
 "nbformat_minor": 2
}
