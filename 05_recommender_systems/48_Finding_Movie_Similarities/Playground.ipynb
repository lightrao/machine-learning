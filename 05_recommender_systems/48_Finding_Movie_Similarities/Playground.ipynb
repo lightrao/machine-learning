{
 "cells": [
  {
   "cell_type": "code",
   "execution_count": 2,
   "metadata": {},
   "outputs": [
    {
     "name": "stdout",
     "output_type": "stream",
     "text": [
      "   A  B   C\n",
      "0  1  5  10\n",
      "1  5  8   4\n",
      "2  7  4   9\n",
      "3  8  3   3 \n",
      "\n",
      "   A   B  C\n",
      "0  5  11  4\n",
      "1  3   2  3\n",
      "2  6   4  8\n",
      "3  4   3  5\n"
     ]
    },
    {
     "data": {
      "text/plain": [
       "A   -0.041703\n",
       "B   -0.151186\n",
       "C    0.395437\n",
       "dtype: float64"
      ]
     },
     "execution_count": 2,
     "metadata": {},
     "output_type": "execute_result"
    }
   ],
   "source": [
    "# importing pandas as pd \n",
    "import pandas as pd \n",
    "\n",
    "# Creating the first dataframe \n",
    "df1 = pd.DataFrame({\"A\":[1, 5, 7, 8], \n",
    "\t\t\t\t\t\"B\":[5, 8, 4, 3], \n",
    "\t\t\t\t\t\"C\":[10, 4, 9, 3]}) \n",
    "\n",
    "# Creating the second dataframe \n",
    "df2 = pd.DataFrame({\"A\":[5, 3, 6, 4], \n",
    "\t\t\t\t\t\"B\":[11, 2, 4, 3], \n",
    "\t\t\t\t\t\"C\":[4, 3, 8, 5]}) \n",
    "\n",
    "# Print the first dataframe \n",
    "print(df1, \"\\n\") \n",
    "\n",
    "# Print the second dataframe \n",
    "print(df2) \n",
    "\n",
    "# To find the correlation among the \n",
    "# columns of df1 and df2 along the column axis \n",
    "df1.corrwith(df2, axis = 0) \n"
   ]
  },
  {
   "cell_type": "code",
   "execution_count": 3,
   "metadata": {},
   "outputs": [
    {
     "data": {
      "text/plain": [
       "0   -0.195254\n",
       "1   -0.970725\n",
       "2    0.993399\n",
       "3    0.000000\n",
       "dtype: float64"
      ]
     },
     "execution_count": 3,
     "metadata": {},
     "output_type": "execute_result"
    }
   ],
   "source": [
    "# importing pandas as pd \n",
    "import pandas as pd \n",
    "\n",
    "# Creating the first dataframe \n",
    "df1 = pd.DataFrame({\"A\":[1, 5, 7, 8], \n",
    "\t\t\t\t\t\"B\":[5, 8, 4, 3], \n",
    "\t\t\t\t\t\"C\":[10, 4, 9, 3]}) \n",
    "\n",
    "# Creating the second dataframe \n",
    "df2 = pd.DataFrame({\"A\":[5, 3, 6, 4], \n",
    "\t\t\t\t\t\"B\":[11, 2, 4, 3], \n",
    "\t\t\t\t\t\"C\":[4, 3, 8, 5]}) \n",
    "\n",
    "# To find the correlation among the \n",
    "# columns of df1 and df2 along the row axis \n",
    "df1.corrwith(df2, axis = 1) \n"
   ]
  }
 ],
 "metadata": {
  "kernelspec": {
   "display_name": "lightTf",
   "language": "python",
   "name": "python3"
  },
  "language_info": {
   "codemirror_mode": {
    "name": "ipython",
    "version": 3
   },
   "file_extension": ".py",
   "mimetype": "text/x-python",
   "name": "python",
   "nbconvert_exporter": "python",
   "pygments_lexer": "ipython3",
   "version": "3.9.18"
  }
 },
 "nbformat": 4,
 "nbformat_minor": 2
}
