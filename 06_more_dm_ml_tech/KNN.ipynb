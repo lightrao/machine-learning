{
 "cells": [
  {
   "cell_type": "markdown",
   "metadata": {},
   "source": [
    "# KNN (K-Nearest-Neighbors)\n"
   ]
  },
  {
   "cell_type": "markdown",
   "metadata": {},
   "source": [
    "KNN is a simple concept: define some distance metric between the items in your dataset, and find the K closest items. You can then use those items to predict some property of a test item, by having them somehow \"vote\" on it.\n",
    "\n",
    "As an example, let's look at the MovieLens data. We'll try to guess the rating of a movie by looking at the 10 movies that are closest to it in terms of genres and popularity.\n",
    "\n",
    "To start, we'll load up every rating in the data set into a Pandas DataFrame:\n"
   ]
  },
  {
   "cell_type": "code",
   "execution_count": 102,
   "metadata": {},
   "outputs": [
    {
     "data": {
      "text/html": [
       "<div>\n",
       "<style scoped>\n",
       "    .dataframe tbody tr th:only-of-type {\n",
       "        vertical-align: middle;\n",
       "    }\n",
       "\n",
       "    .dataframe tbody tr th {\n",
       "        vertical-align: top;\n",
       "    }\n",
       "\n",
       "    .dataframe thead th {\n",
       "        text-align: right;\n",
       "    }\n",
       "</style>\n",
       "<table border=\"1\" class=\"dataframe\">\n",
       "  <thead>\n",
       "    <tr style=\"text-align: right;\">\n",
       "      <th></th>\n",
       "      <th>user_id</th>\n",
       "      <th>movie_id</th>\n",
       "      <th>rating</th>\n",
       "    </tr>\n",
       "  </thead>\n",
       "  <tbody>\n",
       "    <tr>\n",
       "      <th>0</th>\n",
       "      <td>0</td>\n",
       "      <td>50</td>\n",
       "      <td>5</td>\n",
       "    </tr>\n",
       "    <tr>\n",
       "      <th>1</th>\n",
       "      <td>0</td>\n",
       "      <td>172</td>\n",
       "      <td>5</td>\n",
       "    </tr>\n",
       "    <tr>\n",
       "      <th>2</th>\n",
       "      <td>0</td>\n",
       "      <td>133</td>\n",
       "      <td>1</td>\n",
       "    </tr>\n",
       "    <tr>\n",
       "      <th>3</th>\n",
       "      <td>196</td>\n",
       "      <td>242</td>\n",
       "      <td>3</td>\n",
       "    </tr>\n",
       "    <tr>\n",
       "      <th>4</th>\n",
       "      <td>186</td>\n",
       "      <td>302</td>\n",
       "      <td>3</td>\n",
       "    </tr>\n",
       "  </tbody>\n",
       "</table>\n",
       "</div>"
      ],
      "text/plain": [
       "   user_id  movie_id  rating\n",
       "0        0        50       5\n",
       "1        0       172       5\n",
       "2        0       133       1\n",
       "3      196       242       3\n",
       "4      186       302       3"
      ]
     },
     "execution_count": 102,
     "metadata": {},
     "output_type": "execute_result"
    }
   ],
   "source": [
    "# Importing the pandas library for data manipulation and analysis.\n",
    "import pandas as pd\n",
    "\n",
    "# Defining the column names for the ratings data.\n",
    "r_cols = [\"user_id\", \"movie_id\", \"rating\"]\n",
    "\n",
    "# Reading the ratings data from a tab-separated file.\n",
    "# 'sep' specifies tab character as delimiter.\n",
    "# 'names' assigns the column names.\n",
    "# 'usecols' selects the first three columns (user_id, movie_id, rating).\n",
    "ratings = pd.read_csv(\"../ml-100k/u.data\", sep=\"\\t\", names=r_cols, usecols=range(3))\n",
    "\n",
    "# Displaying the first 50 rows of the DataFrame.\n",
    "# This helps in quickly checking the top rows of the dataset to ensure it looks as expected.\n",
    "ratings.head()"
   ]
  },
  {
   "cell_type": "markdown",
   "metadata": {},
   "source": [
    "Now, we'll group everything by movie ID, and compute the total number of ratings (each movie's popularity) and the average rating for every movie:\n"
   ]
  },
  {
   "cell_type": "code",
   "execution_count": 103,
   "metadata": {},
   "outputs": [
    {
     "name": "stderr",
     "output_type": "stream",
     "text": [
      "/var/folders/dn/2j4k_qd53gdgn8wfhr4djdrr0000gq/T/ipykernel_5748/4050712149.py:9: FutureWarning: The provided callable <function mean at 0x104ab2430> is currently using SeriesGroupBy.mean. In a future version of pandas, the provided callable will be used directly. To keep current behavior pass the string \"mean\" instead.\n",
      "  movieProperties = ratings.groupby(\"movie_id\").agg({\"rating\": [np.size, np.mean]})\n"
     ]
    },
    {
     "data": {
      "text/html": [
       "<div>\n",
       "<style scoped>\n",
       "    .dataframe tbody tr th:only-of-type {\n",
       "        vertical-align: middle;\n",
       "    }\n",
       "\n",
       "    .dataframe tbody tr th {\n",
       "        vertical-align: top;\n",
       "    }\n",
       "\n",
       "    .dataframe thead tr th {\n",
       "        text-align: left;\n",
       "    }\n",
       "\n",
       "    .dataframe thead tr:last-of-type th {\n",
       "        text-align: right;\n",
       "    }\n",
       "</style>\n",
       "<table border=\"1\" class=\"dataframe\">\n",
       "  <thead>\n",
       "    <tr>\n",
       "      <th></th>\n",
       "      <th colspan=\"2\" halign=\"left\">rating</th>\n",
       "    </tr>\n",
       "    <tr>\n",
       "      <th></th>\n",
       "      <th>size</th>\n",
       "      <th>mean</th>\n",
       "    </tr>\n",
       "    <tr>\n",
       "      <th>movie_id</th>\n",
       "      <th></th>\n",
       "      <th></th>\n",
       "    </tr>\n",
       "  </thead>\n",
       "  <tbody>\n",
       "    <tr>\n",
       "      <th>1</th>\n",
       "      <td>452</td>\n",
       "      <td>3.878319</td>\n",
       "    </tr>\n",
       "    <tr>\n",
       "      <th>2</th>\n",
       "      <td>131</td>\n",
       "      <td>3.206107</td>\n",
       "    </tr>\n",
       "    <tr>\n",
       "      <th>3</th>\n",
       "      <td>90</td>\n",
       "      <td>3.033333</td>\n",
       "    </tr>\n",
       "    <tr>\n",
       "      <th>4</th>\n",
       "      <td>209</td>\n",
       "      <td>3.550239</td>\n",
       "    </tr>\n",
       "    <tr>\n",
       "      <th>5</th>\n",
       "      <td>86</td>\n",
       "      <td>3.302326</td>\n",
       "    </tr>\n",
       "  </tbody>\n",
       "</table>\n",
       "</div>"
      ],
      "text/plain": [
       "         rating          \n",
       "           size      mean\n",
       "movie_id                 \n",
       "1           452  3.878319\n",
       "2           131  3.206107\n",
       "3            90  3.033333\n",
       "4           209  3.550239\n",
       "5            86  3.302326"
      ]
     },
     "execution_count": 103,
     "metadata": {},
     "output_type": "execute_result"
    }
   ],
   "source": [
    "# Importing numpy for numerical operations\n",
    "import numpy as np\n",
    "\n",
    "# Assuming 'ratings' is a DataFrame that has already been loaded,\n",
    "# containing columns 'user_id', 'movie_id', and 'rating'.\n",
    "\n",
    "# Grouping the 'ratings' DataFrame by 'movie_id'.\n",
    "# This organizes the data such that each group corresponds to a unique movie.\n",
    "movieProperties = ratings.groupby(\"movie_id\").agg({\"rating\": [np.size, np.mean]})\n",
    "\n",
    "# The 'agg' function is used for aggregation. Here, it aggregates the 'rating' column of each group (movie) in two ways:\n",
    "# 'np.size' counts the number of ratings for each movie, giving an idea of its popularity or how widely it's been watched.\n",
    "# 'np.mean' calculates the average rating for each movie, indicating its general reception or quality as perceived by users.\n",
    "\n",
    "# Displaying the first five rows of the aggregated DataFrame.\n",
    "# This gives a quick look at the movie properties (number of ratings and average rating) for the first few movies.\n",
    "movieProperties.head()"
   ]
  },
  {
   "cell_type": "markdown",
   "metadata": {},
   "source": [
    "The raw number of ratings isn't very useful for computing distances between movies, so we'll create a new DataFrame that contains the normalized number of ratings. So, a value of 0 means nobody rated it, and a value of 1 will mean it's the most popular movie there is.\n"
   ]
  },
  {
   "cell_type": "code",
   "execution_count": 104,
   "metadata": {},
   "outputs": [
    {
     "data": {
      "text/html": [
       "<div>\n",
       "<style scoped>\n",
       "    .dataframe tbody tr th:only-of-type {\n",
       "        vertical-align: middle;\n",
       "    }\n",
       "\n",
       "    .dataframe tbody tr th {\n",
       "        vertical-align: top;\n",
       "    }\n",
       "\n",
       "    .dataframe thead th {\n",
       "        text-align: right;\n",
       "    }\n",
       "</style>\n",
       "<table border=\"1\" class=\"dataframe\">\n",
       "  <thead>\n",
       "    <tr style=\"text-align: right;\">\n",
       "      <th></th>\n",
       "      <th>size</th>\n",
       "    </tr>\n",
       "    <tr>\n",
       "      <th>movie_id</th>\n",
       "      <th></th>\n",
       "    </tr>\n",
       "  </thead>\n",
       "  <tbody>\n",
       "    <tr>\n",
       "      <th>1</th>\n",
       "      <td>0.773585</td>\n",
       "    </tr>\n",
       "    <tr>\n",
       "      <th>2</th>\n",
       "      <td>0.222985</td>\n",
       "    </tr>\n",
       "    <tr>\n",
       "      <th>3</th>\n",
       "      <td>0.152659</td>\n",
       "    </tr>\n",
       "    <tr>\n",
       "      <th>4</th>\n",
       "      <td>0.356775</td>\n",
       "    </tr>\n",
       "    <tr>\n",
       "      <th>5</th>\n",
       "      <td>0.145798</td>\n",
       "    </tr>\n",
       "  </tbody>\n",
       "</table>\n",
       "</div>"
      ],
      "text/plain": [
       "              size\n",
       "movie_id          \n",
       "1         0.773585\n",
       "2         0.222985\n",
       "3         0.152659\n",
       "4         0.356775\n",
       "5         0.145798"
      ]
     },
     "execution_count": 104,
     "metadata": {},
     "output_type": "execute_result"
    }
   ],
   "source": [
    "# Assuming 'movieProperties' is a DataFrame created earlier, which contains aggregated data for each movie.\n",
    "\n",
    "# Extracting just the 'size' column from the 'movieProperties' DataFrame, which represents the number of ratings per movie.\n",
    "# This is wrapped in a new DataFrame to maintain a tabular structure.\n",
    "movieNumRatings = pd.DataFrame(movieProperties[\"rating\"][\"size\"])\n",
    "\n",
    "# Normalizing the number of ratings for each movie.\n",
    "# The lambda function in 'apply' scales each value to a range between 0 and 1.\n",
    "# This is done by subtracting the minimum number of ratings from each value and then dividing by the range of ratings.\n",
    "# Normalization formula: (x - min(x)) / (max(x) - min(x))\n",
    "movieNormalizedNumRatings = movieNumRatings.apply(\n",
    "    lambda x: (x - np.min(x)) / (np.max(x) - np.min(x))\n",
    ")\n",
    "# x:\n",
    "# In the context of a pandas DataFrame or Series, x typically represents each individual element or value in that DataFrame or Series.\n",
    "# When you use a function like apply in pandas, x will be each value that the function iterates over.\n",
    "# For example, if you have a Series of movie ratings, x would be each rating in that Series as the function processes them one by one.\n",
    "# np.min(x):\n",
    "# np.min(x) is a function call to NumPy's min function, which calculates the minimum value of x.\n",
    "# In a DataFrame or Series, np.min(x) would return the smallest value found in that DataFrame or Series.\n",
    "# This value is used in normalization to shift the scale of the data so that the smallest value becomes 0.\n",
    "# np.max(x):\n",
    "# Similarly, np.max(x) is a call to NumPy's max function, which finds the maximum value of x.\n",
    "# In a DataFrame or Series, it returns the largest value present.\n",
    "# In normalization, this is used to understand the range of the data. It helps in scaling the largest value in the data to 1.\n",
    "\n",
    "# Displaying the first five rows of the normalized number of ratings.\n",
    "# This shows the normalized ratings for the first few movies.\n",
    "movieNormalizedNumRatings.head()"
   ]
  },
  {
   "cell_type": "markdown",
   "metadata": {},
   "source": [
    "Now, let's get the genre information from the u.item file. The way this works is there are 19 fields, each corresponding to a specific genre - a value of '0' means it is not in that genre, and '1' means it is in that genre. A movie may have more than one genre associated with it.\n",
    "\n",
    "While we're at it, we'll put together everything into one big Python dictionary called movieDict. Each entry will contain the movie name, list of genre values, the normalized popularity score, and the average rating for each movie:\n"
   ]
  },
  {
   "cell_type": "code",
   "execution_count": 105,
   "metadata": {},
   "outputs": [],
   "source": [
    "# 'movieDict' will be our dictionary to store all movie-related data\n",
    "movieDict = {}\n",
    "\n",
    "# Opening the 'u.item' file in read mode. The file encoding is specified as \"ISO-8859-1\".\n",
    "with open(r\"../ml-100k/u.item\", encoding=\"ISO-8859-1\") as f:\n",
    "    # Iterating through each line in the file\n",
    "    for line in f:\n",
    "        # Splitting each line at '|' and stripping the newline character at the end.\n",
    "        fields = line.rstrip(\"\\n\").split(\"|\")\n",
    "\n",
    "        # Extracting the movie ID and converting it to an integer.\n",
    "        movieID = int(fields[0])\n",
    "\n",
    "        # Extracting the movie name.\n",
    "        name = fields[1]\n",
    "\n",
    "        # Extracting the genre information. Genres are in fields 5 to 24.\n",
    "        # Each genre field is a '0' or '1', indicating absence/presence of the movie in that genre.\n",
    "        genres = fields[5:25]\n",
    "        # print(genres)\n",
    "\n",
    "        # Converting very element in genres list from string to integer using map.\n",
    "        genres = map(int, genres)\n",
    "        # print(list(genres))\n",
    "\n",
    "        # Constructing a tuple with the movie name, an array of genre values,\n",
    "        # the normalized number of ratings, and the average rating.\n",
    "        # These values are accessed from 'movieNormalizedNumRatings' and 'movieProperties' DataFrames.\n",
    "        movieDict[movieID] = (\n",
    "            name,\n",
    "            np.array(list(genres)),\n",
    "            movieNormalizedNumRatings.loc[movieID].get(\"size\"),\n",
    "            movieProperties.loc[movieID].rating.get(\"mean\"),\n",
    "        )"
   ]
  },
  {
   "cell_type": "markdown",
   "metadata": {},
   "source": [
    "For example, here's the record we end up with for movie ID 1, \"Toy Story\":\n"
   ]
  },
  {
   "cell_type": "code",
   "execution_count": 106,
   "metadata": {},
   "outputs": [
    {
     "name": "stdout",
     "output_type": "stream",
     "text": [
      "1 ('Toy Story (1995)', array([0, 0, 0, 1, 1, 1, 0, 0, 0, 0, 0, 0, 0, 0, 0, 0, 0, 0, 0]), 0.7735849056603774, 3.8783185840707963)\n",
      "2 ('GoldenEye (1995)', array([0, 1, 1, 0, 0, 0, 0, 0, 0, 0, 0, 0, 0, 0, 0, 0, 1, 0, 0]), 0.22298456260720412, 3.2061068702290076)\n",
      "3 ('Four Rooms (1995)', array([0, 0, 0, 0, 0, 0, 0, 0, 0, 0, 0, 0, 0, 0, 0, 0, 1, 0, 0]), 0.15265866209262435, 3.033333333333333)\n",
      "4 ('Get Shorty (1995)', array([0, 1, 0, 0, 0, 1, 0, 0, 1, 0, 0, 0, 0, 0, 0, 0, 0, 0, 0]), 0.3567753001715266, 3.550239234449761)\n",
      "5 ('Copycat (1995)', array([0, 0, 0, 0, 0, 0, 1, 0, 1, 0, 0, 0, 0, 0, 0, 0, 1, 0, 0]), 0.1457975986277873, 3.302325581395349)\n",
      "6 ('Shanghai Triad (Yao a yao yao dao waipo qiao) (1995)', array([0, 0, 0, 0, 0, 0, 0, 0, 1, 0, 0, 0, 0, 0, 0, 0, 0, 0, 0]), 0.04288164665523156, 3.576923076923077)\n",
      "7 ('Twelve Monkeys (1995)', array([0, 0, 0, 0, 0, 0, 0, 0, 1, 0, 0, 0, 0, 0, 0, 1, 0, 0, 0]), 0.6706689536878216, 3.798469387755102)\n",
      "8 ('Babe (1995)', array([0, 0, 0, 0, 1, 1, 0, 0, 1, 0, 0, 0, 0, 0, 0, 0, 0, 0, 0]), 0.37392795883361923, 3.9954337899543377)\n",
      "9 ('Dead Man Walking (1995)', array([0, 0, 0, 0, 0, 0, 0, 0, 1, 0, 0, 0, 0, 0, 0, 0, 0, 0, 0]), 0.5111492281303602, 3.8963210702341136)\n",
      "10 ('Richard III (1995)', array([0, 0, 0, 0, 0, 0, 0, 0, 1, 0, 0, 0, 0, 0, 0, 0, 0, 1, 0]), 0.1509433962264151, 3.831460674157303)\n"
     ]
    }
   ],
   "source": [
    "# Iterating through the first 10 movie IDs in the 'movieDict'.\n",
    "for i in range(1, 11):\n",
    "    # Printing the movie ID and its corresponding data (name, genres, normalized number of ratings, average rating).\n",
    "    print(i, movieDict[i])"
   ]
  },
  {
   "cell_type": "markdown",
   "metadata": {},
   "source": [
    "Now let's define a function that computes the \"distance\" between two movies based on how similar their genres are, and how similar their popularity is. Just to make sure it works, we'll compute the distance between movie ID's 2 and 4:\n"
   ]
  },
  {
   "cell_type": "code",
   "execution_count": 107,
   "metadata": {},
   "outputs": [
    {
     "data": {
      "text/plain": [
       "0.8004574042309892"
      ]
     },
     "execution_count": 107,
     "metadata": {},
     "output_type": "execute_result"
    }
   ],
   "source": [
    "# Importing the spatial module from scipy for distance calculations\n",
    "from scipy import spatial\n",
    "\n",
    "# Defining the function ComputeDistance to calculate the distance between two movies\n",
    "def ComputeDistance(a, b):\n",
    "    # Extracting the genre array for both movies\n",
    "    genresA = a[1]\n",
    "    genresB = b[1]\n",
    "    \n",
    "    # Calculating the cosine distance between the genre arrays of the two movies\n",
    "    # Cosine distance is a measure of similarity between two non-zero vectors \n",
    "    # of an inner product space that measures the cosine of the angle between them.\n",
    "    genreDistance = spatial.distance.cosine(genresA, genresB)\n",
    "    \n",
    "    # Extracting the normalized popularity scores for both movies\n",
    "    popularityA = a[2]\n",
    "    popularityB = b[2]\n",
    "    \n",
    "    # Calculating the absolute difference in popularity scores between the two movies\n",
    "    # This represents how different the movies are in terms of their popularity.\n",
    "    popularityDistance = abs(popularityA - popularityB)\n",
    "    \n",
    "    # The total 'distance' between the two movies is a combination of their genre and popularity distances\n",
    "    return genreDistance + popularityDistance\n",
    "\n",
    "# Computing the distance between movies with ID's 2 and 4 using the defined function\n",
    "ComputeDistance(movieDict[2], movieDict[4])"
   ]
  },
  {
   "cell_type": "markdown",
   "metadata": {},
   "source": [
    "Remember the higher the distance, the less similar the movies are. Let's check what movies 2 and 4 actually are - and confirm they're not really all that similar:\n"
   ]
  },
  {
   "cell_type": "code",
   "execution_count": 108,
   "metadata": {},
   "outputs": [
    {
     "name": "stdout",
     "output_type": "stream",
     "text": [
      "('GoldenEye (1995)', array([0, 1, 1, 0, 0, 0, 0, 0, 0, 0, 0, 0, 0, 0, 0, 0, 1, 0, 0]), 0.22298456260720412, 3.2061068702290076)\n",
      "('Get Shorty (1995)', array([0, 1, 0, 0, 0, 1, 0, 0, 1, 0, 0, 0, 0, 0, 0, 0, 0, 0, 0]), 0.3567753001715266, 3.550239234449761)\n"
     ]
    }
   ],
   "source": [
    "print(movieDict[2])\n",
    "print(movieDict[4])"
   ]
  },
  {
   "cell_type": "markdown",
   "metadata": {},
   "source": [
    "Now, we just need a little code to compute the distance between some given test movie (Toy Story, in this example) and all of the movies in our data set. When the sort those by distance, and print out the K nearest neighbors:\n"
   ]
  },
  {
   "cell_type": "code",
   "execution_count": 109,
   "metadata": {},
   "outputs": [
    {
     "name": "stdout",
     "output_type": "stream",
     "text": [
      "Liar Liar (1997) 3.156701030927835\n",
      "Aladdin (1992) 3.8127853881278537\n",
      "Willy Wonka and the Chocolate Factory (1971) 3.6319018404907975\n",
      "Monty Python and the Holy Grail (1974) 4.0664556962025316\n",
      "Full Monty, The (1997) 3.926984126984127\n",
      "George of the Jungle (1997) 2.685185185185185\n",
      "Beavis and Butt-head Do America (1996) 2.7884615384615383\n",
      "Birdcage, The (1996) 3.4436860068259385\n",
      "Home Alone (1990) 3.0875912408759123\n",
      "Aladdin and the King of Thieves (1996) 2.8461538461538463\n"
     ]
    }
   ],
   "source": [
    "# Importing the operator module, which provides functions for performing comparisons\n",
    "import operator\n",
    "\n",
    "# Defining a function to find the K nearest neighbors of a specific movie based on their 'distance'\n",
    "def getNeighbors(movieID, K):\n",
    "    distances = []  # Initializing an empty list to store the distances of each movie from the given movie\n",
    "\n",
    "    # Iterating through each movie in the movieDict dictionary\n",
    "    for movie in movieDict:\n",
    "        # Ensuring the movie is not compared with itself\n",
    "        if movie != movieID:\n",
    "            # Calculating the distance between the given movie and the current movie in the loop\n",
    "            dist = ComputeDistance(movieDict[movieID], movieDict[movie])\n",
    "            # Adding the movie ID and its calculated distance to the distances list\n",
    "            distances.append((movie, dist))\n",
    "\n",
    "    # Sorting the distances list in ascending order based on the distance value\n",
    "    # 'operator.itemgetter(1)' is used to sort by the second item in each tuple (the distance)\n",
    "    distances.sort(key=operator.itemgetter(1))\n",
    "\n",
    "    # Creating a list to store the IDs of the K nearest neighbors\n",
    "    neighbors = []\n",
    "    # Looping through the sorted list to pick the first K movies\n",
    "    for x in range(K):\n",
    "        # Appending the ID of each nearest neighbor to the neighbors list\n",
    "        neighbors.append(distances[x][0])\n",
    "\n",
    "    # Returning the list of the K nearest neighbors' IDs\n",
    "    return neighbors\n",
    "\n",
    "# Setting the number of neighbors (K) to find to 10\n",
    "K = 10\n",
    "# Initializing a variable to calculate the average rating\n",
    "avgRating = 0\n",
    "# Getting the 10 nearest neighbors of the movie with ID 1\n",
    "neighbors = getNeighbors(1, K)\n",
    "\n",
    "# Iterating over each neighbor (movie ID) in the neighbors list\n",
    "for neighbor in neighbors:\n",
    "    # Adding the average rating of each neighbor movie to avgRating\n",
    "    avgRating += movieDict[neighbor][3]\n",
    "    # Printing the movie name and its average rating for each neighbor\n",
    "    print(movieDict[neighbor][0] + \" \" + str(movieDict[neighbor][3]))\n",
    "\n",
    "# Calculating the average rating of the K nearest neighbors\n",
    "avgRating /= K"
   ]
  },
  {
   "cell_type": "markdown",
   "metadata": {},
   "source": [
    "While we were at it, we computed the average rating of the 10 nearest neighbors to Toy Story:\n"
   ]
  },
  {
   "cell_type": "code",
   "execution_count": 110,
   "metadata": {},
   "outputs": [
    {
     "data": {
      "text/plain": [
       "3.3445905900235564"
      ]
     },
     "execution_count": 110,
     "metadata": {},
     "output_type": "execute_result"
    }
   ],
   "source": [
    "avgRating"
   ]
  },
  {
   "cell_type": "markdown",
   "metadata": {},
   "source": [
    "How does this compare to Toy Story's actual average rating?\n"
   ]
  },
  {
   "cell_type": "code",
   "execution_count": 111,
   "metadata": {},
   "outputs": [
    {
     "data": {
      "text/plain": [
       "3.8783185840707963"
      ]
     },
     "execution_count": 111,
     "metadata": {},
     "output_type": "execute_result"
    }
   ],
   "source": [
    "movieDict[1][3]"
   ]
  },
  {
   "cell_type": "code",
   "execution_count": 112,
   "metadata": {},
   "outputs": [],
   "source": [
    "# 'avgRating' is the average rating of the K nearest neighbors of the movie with ID 1.\n",
    "# 'movieDict' is a dictionary where each key is a movie ID and the value is a tuple containing movie details.\n",
    "# 'movieDict[1][3]' accesses the average rating of the movie with ID 1 from the dictionary.\n",
    "# The fourth element (index 3) in each tuple is the average rating of the movie.\n",
    "\n",
    "# Calculating the relative difference between the average rating of the K nearest neighbors \n",
    "# and the average rating of the movie itself.\n",
    "relativeDifference = (avgRating - movieDict[1][3]) / movieDict[1][3]\n",
    "\n",
    "# The result, 'relativeDifference', is a measure of how the average rating of the nearest neighbors \n",
    "# compares to the movie's own average rating.\n",
    "# A positive value indicates the neighbors are rated higher on average, \n",
    "# a negative value indicates they are rated lower, \n",
    "# and a value close to zero indicates similar average ratings."
   ]
  },
  {
   "cell_type": "markdown",
   "metadata": {},
   "source": [
    "Not too bad!\n"
   ]
  },
  {
   "cell_type": "markdown",
   "metadata": {},
   "source": [
    "## Activity\n"
   ]
  },
  {
   "cell_type": "markdown",
   "metadata": {},
   "source": [
    "Our choice of 10 for K was arbitrary - what effect do different K values have on the results?\n",
    "\n",
    "Our distance metric was also somewhat arbitrary - we just took the cosine distance between the genres and added it to the difference between the normalized popularity scores. Can you improve on that?\n"
   ]
  },
  {
   "cell_type": "code",
   "execution_count": null,
   "metadata": {},
   "outputs": [],
   "source": []
  }
 ],
 "metadata": {
  "kernelspec": {
   "display_name": "Python 3",
   "language": "python",
   "name": "python3"
  },
  "language_info": {
   "codemirror_mode": {
    "name": "ipython",
    "version": 3
   },
   "file_extension": ".py",
   "mimetype": "text/x-python",
   "name": "python",
   "nbconvert_exporter": "python",
   "pygments_lexer": "ipython3",
   "version": "3.9.18"
  }
 },
 "nbformat": 4,
 "nbformat_minor": 1
}
