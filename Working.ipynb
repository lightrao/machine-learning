{
 "cells": [
  {
   "cell_type": "code",
   "execution_count": 2,
   "metadata": {},
   "outputs": [
    {
     "name": "stdout",
     "output_type": "stream",
     "text": [
      "<module 'numpy' from '/Users/lightrao/opt/anaconda3/envs/lightTf/lib/python3.9/site-packages/numpy/__init__.py'>\n",
      "<module 'matplotlib' from '/Users/lightrao/opt/anaconda3/envs/lightTf/lib/python3.9/site-packages/matplotlib/__init__.py'>\n",
      "<module 'pydotplus' from '/Users/lightrao/opt/anaconda3/envs/lightTf/lib/python3.9/site-packages/pydotplus/__init__.py'>\n",
      "<module 'tensorflow' from '/Users/lightrao/opt/anaconda3/envs/lightTf/lib/python3.9/site-packages/tensorflow/__init__.py'>\n"
     ]
    }
   ],
   "source": [
    "import numpy, matplotlib, pydotplus, tensorflow\n",
    "\n",
    "print(numpy)\n",
    "print(matplotlib)\n",
    "print(pydotplus)\n",
    "print(tensorflow)"
   ]
  }
 ],
 "metadata": {
  "kernelspec": {
   "display_name": "tf",
   "language": "python",
   "name": "python3"
  },
  "language_info": {
   "codemirror_mode": {
    "name": "ipython",
    "version": 3
   },
   "file_extension": ".py",
   "mimetype": "text/x-python",
   "name": "python",
   "nbconvert_exporter": "python",
   "pygments_lexer": "ipython3",
   "version": "3.9.18"
  },
  "orig_nbformat": 4
 },
 "nbformat": 4,
 "nbformat_minor": 2
}
